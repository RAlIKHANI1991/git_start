{
  "cells": [
    {
      "cell_type": "markdown",
      "metadata": {
        "id": "ZS5lje_18xC2"
      },
      "source": [
        "# 📚 Assignment 1 — Python Fundamentals\n",
        "Welcome to your first hands-on practice! This set of four mini-projects walks you through the basics every Python (and ML) developer leans on daily:\n",
        "\n",
        "1. Variable types\n",
        "\n",
        "2. Core containers\n",
        "\n",
        "3. Functions\n",
        "\n",
        "4. Classes\n",
        "\n",
        "Each part begins with quick pointers, then gives you two bite-sized tasks to code. Replace every # TODO with working Python and run your script or notebook to check the result. Happy hacking! 😊"
      ]
    },
    {
      "cell_type": "markdown",
      "metadata": {
        "id": "u5vvtK-6840I"
      },
      "source": [
        "## 1. Variable Types 🧮\n",
        "**Quick-start notes**\n",
        "\n",
        "* Primitive types: `int`, `float`, `str`, `bool`\n",
        "\n",
        "* Use `type(obj)` to inspect an object’s type.\n",
        "\n",
        "* Casting ↔ converting: `int(\"3\")`, `str(3.14)`, `bool(0)`, etc."
      ]
    },
    {
      "cell_type": "markdown",
      "metadata": {
        "id": "UyNHtkGm9OgH"
      },
      "source": [
        "### Task 1 — Celsius → Fahrenheit\n",
        "\n"
      ]
    },
    {
      "cell_type": "code",
      "execution_count": 1,
      "metadata": {
        "id": "lmaiboJe8E15"
      },
      "outputs": [
        {
          "name": "stdout",
          "output_type": "stream",
          "text": [
            "38.6° Celsius is 398.7° Fahrenhit\n"
          ]
        }
      ],
      "source": [
        "# 👉 a Celsius temperature (as text), convert it to float,\n",
        "#    compute Fahrenheit (°F = °C * 9/5 + 32) and print a nicely formatted line.\n",
        "# TODO: your code here\n",
        "\n",
        "#VERSION 1\n",
        "degree_celsius1 = '38.6'\n",
        "degree_fahrenhit1 = round((float(degree_celsius1) * 9.5 +  32) , 1) \n",
        "print(f'{degree_celsius1}° Celsius is {degree_fahrenhit1}° Fahrenhit')"
      ]
    },
    {
      "cell_type": "code",
      "execution_count": 4,
      "metadata": {},
      "outputs": [
        {
          "name": "stdout",
          "output_type": "stream",
          "text": [
            "700.0° Celsius is 6682.0° Fahrenhit\n"
          ]
        }
      ],
      "source": [
        "#VERSION 2\n",
        "degree_celsius = float(input(\"insert celsius degree\"))\n",
        "degree_fahrenhit = round((degree_celsius * 9.5 +  32) , 2) \n",
        "print(f'{degree_celsius}° Celsius is {degree_fahrenhit}° Fahrenhit')"
      ]
    },
    {
      "cell_type": "markdown",
      "metadata": {
        "id": "BtsB8QKM9Xs_"
      },
      "source": [
        "### Task 2 — Tiny Calculator\n"
      ]
    },
    {
      "cell_type": "code",
      "execution_count": 5,
      "metadata": {
        "id": "DSR8aS-F9Z10"
      },
      "outputs": [
        {
          "name": "stdout",
          "output_type": "stream",
          "text": [
            "Sum :         a + b Equals 10\n",
            "\n",
            "difference :  a - b = 4\n",
            "\n",
            "product :     a * b = 21\n",
            "\n",
            "division :    a / b = 2.33\n",
            "\n",
            "f_division :  a // b = 2\n",
            "\n"
          ]
        }
      ],
      "source": [
        "# 👉 Store two numbers of **different types** (one int, one float),\n",
        "#    then print their sum, difference, product, true division, and floor division.\n",
        "# TODO: your code here\n",
        "a , b  = 7 , 3\n",
        "summ = a + b\n",
        "difference = a - b \n",
        "product = a * b\n",
        "division =  round((a / b) , 2)\n",
        "floor_division =  a // b\n",
        "print(f'Sum :         a + b Equals {summ}\\n' )\n",
        "print(f'difference :  a - b = {difference}\\n')\n",
        "print(f'product :     a * b = {product}\\n')\n",
        "print(f'division :    a / b = {division}\\n')\n",
        "print(f'f_division :  a // b = {floor_division}\\n')"
      ]
    },
    {
      "cell_type": "markdown",
      "metadata": {
        "id": "8JjHX4wy9dPz"
      },
      "source": [
        "## 2. Containers 📦 (list, tuple, set, dict)\n",
        "**Quick-start notes**\n",
        "\n",
        "| Container | Mutable? | Ordered?                      | Typical use                       |\n",
        "| --------- | -------- | ----------------------------- | --------------------------------- |\n",
        "| `list`    | ✔        | ✔                             | Growth, indexing, slicing         |\n",
        "| `tuple`   | ✖        | ✔                             | Fixed-size records, hashable keys |\n",
        "| `set`     | ✔        | ✖                             | Deduplication, membership tests   |\n",
        "| `dict`    | ✔        | ✖ (3.7 + preserves insertion) | Key → value look-ups              |\n"
      ]
    },
    {
      "cell_type": "markdown",
      "metadata": {
        "id": "wRyJyhbt9uUr"
      },
      "source": [
        "### Task 1 — Grocery Basket\n",
        "\n"
      ]
    },
    {
      "cell_type": "code",
      "execution_count": 6,
      "metadata": {
        "id": "1J4jcLct9yVO"
      },
      "outputs": [
        {
          "name": "stdout",
          "output_type": "stream",
          "text": [
            " immutable_basket is : ('d ', ' 4 ', ' kll ', '  56')  \n",
            "The third item    is :  kll \n"
          ]
        }
      ],
      "source": [
        "# Start with an empty shopping list (list).\n",
        "# 1. Append at least 4 items supplied in one line of user input (comma-separated).\n",
        "# 2. Convert the list to a *tuple* called immutable_basket.\n",
        "# 3. Print the third item using tuple indexing.\n",
        "# TODO: your code here\n",
        "\n",
        "# WITH append()\n",
        "mylist = []\n",
        "\n",
        "user_input = input(\"Enter at least 4 items (comma-separated): \")\n",
        "items = user_input.strip().split(\",\")\n",
        "\n",
        "if len(items) >= 4 : \n",
        "    for i in items : \n",
        "        mylist.append(i)\n",
        "else :\n",
        "    print(\"pls insert more than 4 items or 3 coma\")\n",
        "\n",
        "immutable_basket = tuple(mylist)\n",
        "\n",
        "print(f' immutable_basket is : {immutable_basket}  ')\n",
        "print(f\"The third item    is : {immutable_basket[2] }\")"
      ]
    },
    {
      "cell_type": "code",
      "execution_count": null,
      "metadata": {},
      "outputs": [
        {
          "name": "stdout",
          "output_type": "stream",
          "text": [
            "('1', '2', '3', '4', '5')\n",
            "The third item is: 3\n"
          ]
        }
      ],
      "source": [
        "# with extend & comphernsion list\n",
        "mylist = []\n",
        "user_input = input(\"Enter at least 4 items (comma-separated): \")\n",
        "items = [item.strip() for item in user_input.split(\",\")]\n",
        "\n",
        "if len(items) >= 4:\n",
        "    mylist.extend(items)\n",
        "else:\n",
        "    print(\"Please enter at least 4 items.\")\n",
        "    exit()\n",
        "\n",
        "immutable_basket = tuple(mylist)\n",
        "\n",
        "print(immutable_basket)\n",
        "print(f\"The third item is: {immutable_basket[2]}\")\n",
        "\n"
      ]
    },
    {
      "cell_type": "markdown",
      "metadata": {
        "id": "byKd8SFK9w2y"
      },
      "source": [
        "### Task 2 — Word Stats"
      ]
    },
    {
      "cell_type": "code",
      "execution_count": 9,
      "metadata": {
        "id": "4rLrxkPj90p3"
      },
      "outputs": [
        {
          "name": "stdout",
          "output_type": "stream",
          "text": [
            "Mylist is : ['to', 'be', 'or', 'not', 'to', 'be', 'that', 'is', 'the', 'question']\n",
            "\n",
            "Unique words (set) : {'that', 'not', 'is', 'the', 'or', 'to', 'question', 'be'}\n",
            "\n",
            "Word counts (dict) : {'to': 2, 'be': 2, 'or': 1, 'not': 1, 'that': 1, 'is': 1, 'the': 1, 'question': 1} \n"
          ]
        }
      ],
      "source": [
        "\n",
        "\n",
        "# 1. Build a set `unique_words` containing every distinct word.\n",
        "# 2. Build a dict `word_counts` mapping each word to the number of times it appears.\n",
        "#    (Hint: .split() + a simple loop)\n",
        "# 3. Print the two structures and explain (in a comment) their main difference.\n",
        "# TODO: your code here\n",
        " \n",
        "sample = \"to be or not to be that is the question\"\n",
        "\n",
        "mylist = sample.split(\" \")\n",
        "unique_words = set(mylist)\n",
        "word_counts = {}\n",
        "\n",
        "for i in mylist:\n",
        "    if i in word_counts:\n",
        "        word_counts[i] += 1\n",
        "    else:\n",
        "        word_counts[i] = 1\n",
        "\n",
        "print(f'Mylist is : {mylist}\\n')\n",
        "print(f\"Unique words (set) : {unique_words}\\n\")\n",
        "print(f\"Word counts (dict) : {word_counts} \" )\n"
      ]
    },
    {
      "cell_type": "markdown",
      "metadata": {
        "id": "gbGMbtLf94M4"
      },
      "source": [
        "## 3. Functions 🔧\n",
        "**Quick-start notes**\n",
        "\n",
        "* Define with `def`, return with `return`.\n",
        "\n",
        "* Parameters can have default values.\n",
        "\n",
        "* Docstrings (`\"\"\" … \"\"\"`) document behaviour."
      ]
    },
    {
      "cell_type": "markdown",
      "metadata": {
        "id": "QOsToPh2-AnZ"
      },
      "source": [
        "### Task 1 — Prime Tester"
      ]
    },
    {
      "cell_type": "code",
      "execution_count": 23,
      "metadata": {
        "id": "_pCU2mIH-DAi"
      },
      "outputs": [
        {
          "name": "stdout",
          "output_type": "stream",
          "text": [
            "list_add_aval in range 0-100 : [2, 3, 5, 7, 11, 13, 17, 19, 23, 29, 31, 37, 41, 43, 47, 53, 59, 61, 67, 71, 73, 79, 83, 89, 97]\n",
            "\n",
            "tedad adad aval in range 0-100 = 25\n"
          ]
        }
      ],
      "source": [
        "def is_prime(n: int) -> bool:\n",
        "    \"\"\"\n",
        "    Return True if n is a prime number, else False.\n",
        "    0 and 1 are *not* prime.\n",
        "    \"\"\"\n",
        "    if n < 2 :\n",
        "        return False # print(f'{n} add aval nist!!')\n",
        "    \n",
        "    for i in range (2 , n) : # range (2 , n) >>  2 - n-1 \n",
        "        if n % i ==0 :\n",
        "         return False #print(f'{n} add aval nist!!')\n",
        "        \n",
        "    return True\n",
        "\n",
        "\n",
        "    # TODO: replace pass with your implementation\n",
        "    #pass\n",
        "\n",
        "\n",
        "# Quick self-check\n",
        "baze_mogasebat = 100\n",
        "m = range(baze_mogasebat)\n",
        "\n",
        "list_add_aval = [x for x in m if is_prime(x)]\n",
        "print(f\"list_add_aval in range 0-{baze_mogasebat} : {list_add_aval}\\n\")\n",
        "\n",
        "print(f'tedad adad aval in range 0-{baze_mogasebat} = {len(list_add_aval)}')  # Expected: [2, 3, 5, 7]\n"
      ]
    },
    {
      "cell_type": "markdown",
      "metadata": {
        "id": "TBGXIzVV-E5u"
      },
      "source": [
        "### Task 2 — Repeater Greeter"
      ]
    },
    {
      "cell_type": "code",
      "execution_count": 24,
      "metadata": {
        "id": "ycvsNyqh-GRM"
      },
      "outputs": [
        {
          "name": "stdout",
          "output_type": "stream",
          "text": [
            "Alice\n",
            "Bob Bob Bob\n"
          ]
        }
      ],
      "source": [
        "def greet(name: str, times: int = 1) -> None:\n",
        "   \n",
        "    \"\"\"Print `name`, capitalised, exactly `times` times on one line.\"\"\"\n",
        "    #  TODO: your code here\n",
        "\n",
        "    a = name.strip().capitalize()\n",
        "    a = (a+\" \") *times\n",
        "\n",
        "    return a.strip() \n",
        "\n",
        "a = greet(\"alice\")          # Alice\n",
        "b = greet(\"bob\", times=3)   # Bob Bob Bob\n",
        "\n",
        "print(a)\n",
        "print(b)\n"
      ]
    },
    {
      "cell_type": "markdown",
      "metadata": {
        "id": "y7K-GaBC-ImE"
      },
      "source": [
        "## 4. Classes 🏗️\n",
        "**Quick-start notes**\n",
        "\n",
        "* Create with class Name:\n",
        "\n",
        "* Special method __init__ runs on construction.\n",
        "\n",
        "* self refers to the instance; attributes live on self."
      ]
    },
    {
      "cell_type": "markdown",
      "metadata": {
        "id": "NgKjsy8A-N3l"
      },
      "source": [
        "### Task 1 — Simple Counter"
      ]
    },
    {
      "cell_type": "code",
      "execution_count": 58,
      "metadata": {
        "id": "dPFvr_fe-OPR"
      },
      "outputs": [
        {
          "name": "stdout",
          "output_type": "stream",
          "text": [
            "100\n"
          ]
        }
      ],
      "source": [
        "class Counter:\n",
        "    \"\"\"Counts how many times `increment` is called.\"\"\"\n",
        "    # TODO:\n",
        "    # 1. In __init__, store an internal count variable starting at 0.\n",
        "    # 2. Method increment(step: int = 1) adds `step` to the count.\n",
        "    # 3. Method value() returns the current count.\n",
        "\n",
        "    def __init__(self):\n",
        "        self.count = 0\n",
        "    \n",
        "    def increment(self, step: int = 1):\n",
        "        self.count += step\n",
        "    \n",
        "    def value(self):\n",
        "        return self.count\n",
        "   \n",
        "\n",
        "c = Counter()\n",
        "for _ in range(100):\n",
        "    c.increment()\n",
        "\n",
        "print(c.value())   # Expected: 5\n"
      ]
    },
    {
      "cell_type": "markdown",
      "metadata": {
        "id": "U99aupan-Q8u"
      },
      "source": [
        "### Task 2 — 2-D Point with Distance"
      ]
    },
    {
      "cell_type": "code",
      "execution_count": 25,
      "metadata": {
        "id": "OVh3GEzH-T0w"
      },
      "outputs": [],
      "source": [
        "import math\n",
        "\n",
        "class Point:\n",
        "    \"\"\"\n",
        "    A 2-D point supporting distance calculation.\n",
        "    Usage:\n",
        "        p = Point(3, 4)\n",
        "        q = Point(0, 0)\n",
        "        print(p.distance_to(q))  # 5.0\n",
        "    \"\"\"\n",
        "    # TODO:\n",
        "    # 1. Store x and y as attributes.\n",
        "    # 2. Implement distance_to(other) using the Euclidean formula.\n",
        "\n",
        "    def __init__(self, x: float, y: float):\n",
        "        self.x = x\n",
        "        self.y = y\n",
        "    \n",
        "    def distance_to(self, other):\n",
        "        dx = self.x - other.x\n",
        "        dy = self.y - other.y\n",
        "\n",
        "        return math.sqrt(dx**2 + dy**2)  \n",
        "    \n",
        "\n",
        "# Smoke test\n",
        "p, q = Point(3, 4), Point(0, 0)\n",
        "assert round(p.distance_to(q), 1) == 5.0\n"
      ]
    },
    {
      "cell_type": "code",
      "execution_count": 26,
      "metadata": {},
      "outputs": [
        {
          "name": "stdout",
          "output_type": "stream",
          "text": [
            "11.7\n"
          ]
        }
      ],
      "source": [
        "m , n = Point( 10 , 6 ) , Point( 0  , 0)\n",
        "print(round(m.distance_to(n), 1))"
      ]
    },
    {
      "cell_type": "code",
      "execution_count": null,
      "metadata": {},
      "outputs": [],
      "source": []
    }
  ],
  "metadata": {
    "colab": {
      "provenance": []
    },
    "kernelspec": {
      "display_name": "DsAi",
      "language": "python",
      "name": "python3"
    },
    "language_info": {
      "codemirror_mode": {
        "name": "ipython",
        "version": 3
      },
      "file_extension": ".py",
      "mimetype": "text/x-python",
      "name": "python",
      "nbconvert_exporter": "python",
      "pygments_lexer": "ipython3",
      "version": "3.12.11"
    }
  },
  "nbformat": 4,
  "nbformat_minor": 0
}
